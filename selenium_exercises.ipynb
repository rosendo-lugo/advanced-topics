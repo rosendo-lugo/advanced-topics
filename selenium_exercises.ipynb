{
 "cells": [
  {
   "cell_type": "markdown",
   "id": "907c50d3-1cf9-4e24-9884-77c3335e3745",
   "metadata": {},
   "source": [
    "# Imports"
   ]
  },
  {
   "cell_type": "code",
   "execution_count": 1,
   "id": "89d60fdb-b48a-4b51-8353-2abafc4c9eee",
   "metadata": {},
   "outputs": [],
   "source": [
    "from selenium import webdriver\n",
    "from selenium.webdriver.chrome.service import Service\n",
    "from selenium.webdriver.common.keys import Keys\n",
    "from selenium.webdriver.common.by import By\n",
    "from selenium.webdriver.common.action_chains import ActionChains\n",
    "from selenium.webdriver.support.ui import Select, WebDriverWait\n",
    "from selenium.webdriver.support import expected_conditions as EC\n",
    "from selenium.common.exceptions import TimeoutException\n",
    "\n",
    "from webdriver_manager.chrome import ChromeDriverManager\n",
    "\n",
    "import time as t\n",
    "import os\n",
    "import shutil"
   ]
  },
  {
   "cell_type": "markdown",
   "id": "4d5de189-58d1-4641-ac30-c636e39b7b6c",
   "metadata": {},
   "source": [
    "# Variables"
   ]
  },
  {
   "cell_type": "code",
   "execution_count": 2,
   "id": "1f7a78a6-cc6c-454d-b82a-db1e5c65e60d",
   "metadata": {},
   "outputs": [],
   "source": [
    "# user = os.getenv(\"githubUSER\")\n",
    "# pswd = os.getenv(\"githubPSWD\")\n",
    "                 \n",
    "# base_url = \"https://github.com/\"      "
   ]
  },
  {
   "cell_type": "code",
   "execution_count": 3,
   "id": "780ba911-2364-42c4-8aea-d76e0ba5ca2e",
   "metadata": {},
   "outputs": [],
   "source": [
    "# Create a webdriver object \n",
    "# driver = webdriver.Chrome(service = Service())"
   ]
  },
  {
   "cell_type": "code",
   "execution_count": 4,
   "id": "45a4589b-ed56-4062-b15f-ae92bab45be1",
   "metadata": {},
   "outputs": [],
   "source": [
    "# Let's open up a website!\n",
    "# driver.get(base_url+\"login\")"
   ]
  },
  {
   "cell_type": "markdown",
   "id": "6949075b-04d4-40fe-8598-c8084313973b",
   "metadata": {},
   "source": [
    "# <a href=\"https://www.selenium.dev/documentation/webdriver/elements/interactions/\">Basic Interactions</a>"
   ]
  },
  {
   "cell_type": "code",
   "execution_count": 5,
   "id": "91f85e9a-0917-4348-9538-047fb41abee4",
   "metadata": {},
   "outputs": [],
   "source": [
    "# # Enter username\n",
    "# driver.find_element(By.NAME, \"login\").send_keys(user)\n",
    "\n",
    "# # Enter password\n",
    "# driver.find_element(By.NAME, \"password\").send_keys(pswd)\n",
    "\n",
    "# # Locate and click the sign in button\n",
    "# driver.find_element(By.NAME, \"commit\").click()"
   ]
  },
  {
   "cell_type": "markdown",
   "id": "43020216-40bd-4038-af0b-ca1c7e34c043",
   "metadata": {},
   "source": [
    "## Login to GitHub"
   ]
  },
  {
   "cell_type": "code",
   "execution_count": 6,
   "id": "3174c7d0-4658-4e2e-9bb4-aaa5b8365b48",
   "metadata": {},
   "outputs": [],
   "source": [
    "def login_to_github():\n",
    "    # credentials   \n",
    "    user = os.getenv(\"githubUSER\")\n",
    "    pswd = os.getenv(\"githubPSWD\")\n",
    "\n",
    "    # github website                \n",
    "    base_url = \"https://github.com/\"\n",
    "    \n",
    "    # Create a webdriver object \n",
    "    driver = webdriver.Chrome(service = Service())\n",
    "    \n",
    "    # Let's open up a website!\n",
    "    driver.get(base_url+\"login\")\n",
    "\n",
    "    # Enter username\n",
    "    driver.find_element(By.NAME, \"login\").send_keys(user)\n",
    "\n",
    "    # Enter password\n",
    "    driver.find_element(By.NAME, \"password\").send_keys(pswd)\n",
    "\n",
    "    # Locate and click the sign in button\n",
    "    driver.find_element(By.NAME, \"commit\").click()\n",
    "    \n",
    "    return driver, base_url, user"
   ]
  },
  {
   "cell_type": "code",
   "execution_count": 7,
   "id": "80065c3d-bb61-4bf5-bf13-7150e53054f3",
   "metadata": {},
   "outputs": [],
   "source": [
    "driver, base_url, user = login_to_github()"
   ]
  },
  {
   "cell_type": "code",
   "execution_count": 8,
   "id": "c27d7d6c-2996-4e49-82c1-67b88a2414bd",
   "metadata": {},
   "outputs": [],
   "source": [
    "# navigate to database-exercises repo\n",
    "driver.get(base_url+user+\"/database-exercises\")"
   ]
  },
  {
   "cell_type": "markdown",
   "id": "e93100eb-6cf1-4bff-a59f-436d5b12f0fa",
   "metadata": {},
   "source": [
    "# <a>Download All SQL Files</a>"
   ]
  },
  {
   "cell_type": "code",
   "execution_count": 9,
   "id": "bb7c23b8-34de-4e95-97f1-97cfbc8ad226",
   "metadata": {},
   "outputs": [],
   "source": [
    "#select first sql file\n",
    "# driver.find_elements(By.XPATH, \"//a[@class='js-navigation-open Link--primary']\")[3].click()"
   ]
  },
  {
   "cell_type": "code",
   "execution_count": 10,
   "id": "181d6033-7ace-49ba-95a4-a68126836552",
   "metadata": {},
   "outputs": [],
   "source": [
    "# download the file\n",
    "# Check if this is the correct button by hovering over it\n",
    "# dlbutton = driver.find_elements(By.XPATH, \"//button[@data-component='IconButton']\")[5]\n",
    "# ActionChains(driver).move_to_element(dlbutton).perform()"
   ]
  },
  {
   "cell_type": "code",
   "execution_count": 11,
   "id": "170fc9ce-fdef-4cf2-8052-727783366dec",
   "metadata": {},
   "outputs": [],
   "source": [
    "# dlbutton.click()"
   ]
  },
  {
   "cell_type": "code",
   "execution_count": 12,
   "id": "8fa35025-e484-4bae-b49d-a05766a2940f",
   "metadata": {},
   "outputs": [],
   "source": [
    "def download_sql_files(driver):\n",
    "    # wait for 10 seconds\n",
    "    WebDriverWait(driver, 10).until(EC.staleness_of(driver.find_element(By.XPATH, \"//a[@class='js-navigation-open Link--primary']\")))\n",
    "\n",
    "    # Find all elements that are files\n",
    "    elements = driver.find_elements(By.XPATH, \"//a[@class='js-navigation-open Link--primary']\")\n",
    "\n",
    "    # Filter for .sql files\n",
    "    sql_files = [element for element in elements if '.sql' in element.text]\n",
    "\n",
    "    # Loop through all .sql files\n",
    "    for sql_file in sql_files:\n",
    "        # Click the .sql file\n",
    "        sql_file.click()\n",
    "\n",
    "        # wait for 4 seconds\n",
    "        wait = WebDriverWait(driver, 4)\n",
    "\n",
    "        try:\n",
    "            # wait until the download button is visible\n",
    "            dlbutton = wait.until(EC.visibility_of_element_located((By.XPATH, \"//button[@data-testid='download-raw-button']\")))\n",
    "\n",
    "            # move to the download button\n",
    "            ActionChains(driver).move_to_element(dlbutton).perform()\n",
    "\n",
    "            # click the download button\n",
    "            dlbutton.click()\n",
    "        except TimeoutException:\n",
    "            print(\"TimeoutException: The download button was not visible after 4 seconds\")\n",
    "        except NoSuchElementException:\n",
    "            print(\"NoSuchElementException: Could not locate the download button\")\n",
    "\n",
    "        # Go back to the list of .sql files\n",
    "        driver.back()"
   ]
  },
  {
   "cell_type": "code",
   "execution_count": 13,
   "id": "24f20cd3-cb38-46cb-8352-c94405456539",
   "metadata": {},
   "outputs": [
    {
     "ename": "WebDriverException",
     "evalue": "Message: unknown error: unhandled inspector error: {\"code\":-32000,\"message\":\"No node with given id found\"}\n  (Session info: chrome=114.0.5735.198)\nStacktrace:\n0   chromedriver                        0x000000010244ff48 chromedriver + 4226888\n1   chromedriver                        0x00000001024484f4 chromedriver + 4195572\n2   chromedriver                        0x000000010208cd68 chromedriver + 281960\n3   chromedriver                        0x0000000102077224 chromedriver + 193060\n4   chromedriver                        0x00000001020754b8 chromedriver + 185528\n5   chromedriver                        0x000000010207578c chromedriver + 186252\n6   chromedriver                        0x000000010209a444 chromedriver + 336964\n7   chromedriver                        0x0000000102091a78 chromedriver + 301688\n8   chromedriver                        0x000000010209062c chromedriver + 296492\n9   chromedriver                        0x0000000102092fe4 chromedriver + 307172\n10  chromedriver                        0x00000001020930d4 chromedriver + 307412\n11  chromedriver                        0x00000001020c9b48 chromedriver + 531272\n12  chromedriver                        0x00000001020bdd0c chromedriver + 482572\n13  chromedriver                        0x00000001020bd734 chromedriver + 481076\n14  chromedriver                        0x00000001020fec58 chromedriver + 748632\n15  chromedriver                        0x00000001020bbf1c chromedriver + 474908\n16  chromedriver                        0x00000001020bcef4 chromedriver + 478964\n17  chromedriver                        0x000000010241159c chromedriver + 3970460\n18  chromedriver                        0x00000001024156f0 chromedriver + 3987184\n19  chromedriver                        0x000000010241b5b4 chromedriver + 4011444\n20  chromedriver                        0x00000001024162fc chromedriver + 3990268\n21  chromedriver                        0x00000001023ee1c0 chromedriver + 3826112\n22  chromedriver                        0x0000000102432088 chromedriver + 4104328\n23  chromedriver                        0x00000001024321e0 chromedriver + 4104672\n24  chromedriver                        0x0000000102441f28 chromedriver + 4169512\n25  libsystem_pthread.dylib             0x000000019869ffa8 _pthread_start + 148\n26  libsystem_pthread.dylib             0x000000019869ada0 thread_start + 8\n",
     "output_type": "error",
     "traceback": [
      "\u001b[0;31m---------------------------------------------------------------------------\u001b[0m",
      "\u001b[0;31mWebDriverException\u001b[0m                        Traceback (most recent call last)",
      "Input \u001b[0;32mIn [13]\u001b[0m, in \u001b[0;36m<cell line: 2>\u001b[0;34m()\u001b[0m\n\u001b[1;32m      1\u001b[0m \u001b[38;5;66;03m# Call the function\u001b[39;00m\n\u001b[0;32m----> 2\u001b[0m \u001b[43mdownload_sql_files\u001b[49m\u001b[43m(\u001b[49m\u001b[43mdriver\u001b[49m\u001b[43m)\u001b[49m\n",
      "Input \u001b[0;32mIn [12]\u001b[0m, in \u001b[0;36mdownload_sql_files\u001b[0;34m(driver)\u001b[0m\n\u001b[1;32m     11\u001b[0m \u001b[38;5;66;03m# Loop through all .sql files\u001b[39;00m\n\u001b[1;32m     12\u001b[0m \u001b[38;5;28;01mfor\u001b[39;00m sql_file \u001b[38;5;129;01min\u001b[39;00m sql_files:\n\u001b[1;32m     13\u001b[0m     \u001b[38;5;66;03m# Click the .sql file\u001b[39;00m\n\u001b[0;32m---> 14\u001b[0m     \u001b[43msql_file\u001b[49m\u001b[38;5;241;43m.\u001b[39;49m\u001b[43mclick\u001b[49m\u001b[43m(\u001b[49m\u001b[43m)\u001b[49m\n\u001b[1;32m     16\u001b[0m     \u001b[38;5;66;03m# wait for 4 seconds\u001b[39;00m\n\u001b[1;32m     17\u001b[0m     wait \u001b[38;5;241m=\u001b[39m WebDriverWait(driver, \u001b[38;5;241m4\u001b[39m)\n",
      "File \u001b[0;32m/opt/homebrew/anaconda3/lib/python3.9/site-packages/selenium/webdriver/remote/webelement.py:94\u001b[0m, in \u001b[0;36mWebElement.click\u001b[0;34m(self)\u001b[0m\n\u001b[1;32m     92\u001b[0m \u001b[38;5;28;01mdef\u001b[39;00m \u001b[38;5;21mclick\u001b[39m(\u001b[38;5;28mself\u001b[39m) \u001b[38;5;241m-\u001b[39m\u001b[38;5;241m>\u001b[39m \u001b[38;5;28;01mNone\u001b[39;00m:\n\u001b[1;32m     93\u001b[0m     \u001b[38;5;124;03m\"\"\"Clicks the element.\"\"\"\u001b[39;00m\n\u001b[0;32m---> 94\u001b[0m     \u001b[38;5;28;43mself\u001b[39;49m\u001b[38;5;241;43m.\u001b[39;49m\u001b[43m_execute\u001b[49m\u001b[43m(\u001b[49m\u001b[43mCommand\u001b[49m\u001b[38;5;241;43m.\u001b[39;49m\u001b[43mCLICK_ELEMENT\u001b[49m\u001b[43m)\u001b[49m\n",
      "File \u001b[0;32m/opt/homebrew/anaconda3/lib/python3.9/site-packages/selenium/webdriver/remote/webelement.py:395\u001b[0m, in \u001b[0;36mWebElement._execute\u001b[0;34m(self, command, params)\u001b[0m\n\u001b[1;32m    393\u001b[0m     params \u001b[38;5;241m=\u001b[39m {}\n\u001b[1;32m    394\u001b[0m params[\u001b[38;5;124m\"\u001b[39m\u001b[38;5;124mid\u001b[39m\u001b[38;5;124m\"\u001b[39m] \u001b[38;5;241m=\u001b[39m \u001b[38;5;28mself\u001b[39m\u001b[38;5;241m.\u001b[39m_id\n\u001b[0;32m--> 395\u001b[0m \u001b[38;5;28;01mreturn\u001b[39;00m \u001b[38;5;28;43mself\u001b[39;49m\u001b[38;5;241;43m.\u001b[39;49m\u001b[43m_parent\u001b[49m\u001b[38;5;241;43m.\u001b[39;49m\u001b[43mexecute\u001b[49m\u001b[43m(\u001b[49m\u001b[43mcommand\u001b[49m\u001b[43m,\u001b[49m\u001b[43m \u001b[49m\u001b[43mparams\u001b[49m\u001b[43m)\u001b[49m\n",
      "File \u001b[0;32m/opt/homebrew/anaconda3/lib/python3.9/site-packages/selenium/webdriver/remote/webdriver.py:346\u001b[0m, in \u001b[0;36mWebDriver.execute\u001b[0;34m(self, driver_command, params)\u001b[0m\n\u001b[1;32m    344\u001b[0m response \u001b[38;5;241m=\u001b[39m \u001b[38;5;28mself\u001b[39m\u001b[38;5;241m.\u001b[39mcommand_executor\u001b[38;5;241m.\u001b[39mexecute(driver_command, params)\n\u001b[1;32m    345\u001b[0m \u001b[38;5;28;01mif\u001b[39;00m response:\n\u001b[0;32m--> 346\u001b[0m     \u001b[38;5;28;43mself\u001b[39;49m\u001b[38;5;241;43m.\u001b[39;49m\u001b[43merror_handler\u001b[49m\u001b[38;5;241;43m.\u001b[39;49m\u001b[43mcheck_response\u001b[49m\u001b[43m(\u001b[49m\u001b[43mresponse\u001b[49m\u001b[43m)\u001b[49m\n\u001b[1;32m    347\u001b[0m     response[\u001b[38;5;124m\"\u001b[39m\u001b[38;5;124mvalue\u001b[39m\u001b[38;5;124m\"\u001b[39m] \u001b[38;5;241m=\u001b[39m \u001b[38;5;28mself\u001b[39m\u001b[38;5;241m.\u001b[39m_unwrap_value(response\u001b[38;5;241m.\u001b[39mget(\u001b[38;5;124m\"\u001b[39m\u001b[38;5;124mvalue\u001b[39m\u001b[38;5;124m\"\u001b[39m, \u001b[38;5;28;01mNone\u001b[39;00m))\n\u001b[1;32m    348\u001b[0m     \u001b[38;5;28;01mreturn\u001b[39;00m response\n",
      "File \u001b[0;32m/opt/homebrew/anaconda3/lib/python3.9/site-packages/selenium/webdriver/remote/errorhandler.py:245\u001b[0m, in \u001b[0;36mErrorHandler.check_response\u001b[0;34m(self, response)\u001b[0m\n\u001b[1;32m    243\u001b[0m         alert_text \u001b[38;5;241m=\u001b[39m value[\u001b[38;5;124m\"\u001b[39m\u001b[38;5;124malert\u001b[39m\u001b[38;5;124m\"\u001b[39m]\u001b[38;5;241m.\u001b[39mget(\u001b[38;5;124m\"\u001b[39m\u001b[38;5;124mtext\u001b[39m\u001b[38;5;124m\"\u001b[39m)\n\u001b[1;32m    244\u001b[0m     \u001b[38;5;28;01mraise\u001b[39;00m exception_class(message, screen, stacktrace, alert_text)  \u001b[38;5;66;03m# type: ignore[call-arg]  # mypy is not smart enough here\u001b[39;00m\n\u001b[0;32m--> 245\u001b[0m \u001b[38;5;28;01mraise\u001b[39;00m exception_class(message, screen, stacktrace)\n",
      "\u001b[0;31mWebDriverException\u001b[0m: Message: unknown error: unhandled inspector error: {\"code\":-32000,\"message\":\"No node with given id found\"}\n  (Session info: chrome=114.0.5735.198)\nStacktrace:\n0   chromedriver                        0x000000010244ff48 chromedriver + 4226888\n1   chromedriver                        0x00000001024484f4 chromedriver + 4195572\n2   chromedriver                        0x000000010208cd68 chromedriver + 281960\n3   chromedriver                        0x0000000102077224 chromedriver + 193060\n4   chromedriver                        0x00000001020754b8 chromedriver + 185528\n5   chromedriver                        0x000000010207578c chromedriver + 186252\n6   chromedriver                        0x000000010209a444 chromedriver + 336964\n7   chromedriver                        0x0000000102091a78 chromedriver + 301688\n8   chromedriver                        0x000000010209062c chromedriver + 296492\n9   chromedriver                        0x0000000102092fe4 chromedriver + 307172\n10  chromedriver                        0x00000001020930d4 chromedriver + 307412\n11  chromedriver                        0x00000001020c9b48 chromedriver + 531272\n12  chromedriver                        0x00000001020bdd0c chromedriver + 482572\n13  chromedriver                        0x00000001020bd734 chromedriver + 481076\n14  chromedriver                        0x00000001020fec58 chromedriver + 748632\n15  chromedriver                        0x00000001020bbf1c chromedriver + 474908\n16  chromedriver                        0x00000001020bcef4 chromedriver + 478964\n17  chromedriver                        0x000000010241159c chromedriver + 3970460\n18  chromedriver                        0x00000001024156f0 chromedriver + 3987184\n19  chromedriver                        0x000000010241b5b4 chromedriver + 4011444\n20  chromedriver                        0x00000001024162fc chromedriver + 3990268\n21  chromedriver                        0x00000001023ee1c0 chromedriver + 3826112\n22  chromedriver                        0x0000000102432088 chromedriver + 4104328\n23  chromedriver                        0x00000001024321e0 chromedriver + 4104672\n24  chromedriver                        0x0000000102441f28 chromedriver + 4169512\n25  libsystem_pthread.dylib             0x000000019869ffa8 _pthread_start + 148\n26  libsystem_pthread.dylib             0x000000019869ada0 thread_start + 8\n"
     ]
    }
   ],
   "source": [
    "# Call the function\n",
    "download_sql_files(driver)"
   ]
  },
  {
   "cell_type": "code",
   "execution_count": null,
   "id": "96957503-bfdc-442b-98e5-5588a5e429a9",
   "metadata": {},
   "outputs": [],
   "source": [
    "cvxcv"
   ]
  },
  {
   "cell_type": "code",
   "execution_count": null,
   "id": "d2aafa07-92c0-4aad-94ab-aa0edeb2530e",
   "metadata": {},
   "outputs": [],
   "source": [
    "# wait for 5 seconds\n",
    "WebDriverWait(driver, 10).until(EC.staleness_of(driver.find_element(By.XPATH, \"//a[@class='js-navigation-open Link--primary']\")))\n",
    "\n",
    "# Find all elements that are files\n",
    "elements = driver.find_elements(By.XPATH, \"//a[@class='js-navigation-open Link--primary']\")\n",
    "\n",
    "# Filter for .sql files\n",
    "sql_files = [element for element in elements if '.sql' in element.text]\n",
    "\n",
    "# Click the first .sql file\n",
    "if sql_files:\n",
    "    sql_files[0].click()\n",
    "else:\n",
    "    print(\"No .sql files found.\")"
   ]
  },
  {
   "cell_type": "code",
   "execution_count": null,
   "id": "806fc686-994c-416e-8a17-e5889f89dfcc",
   "metadata": {},
   "outputs": [],
   "source": [
    "# wait for 4 seconds\n",
    "wait = WebDriverWait(driver, 4)\n",
    "\n",
    "try:\n",
    "    # wait until the download button is visible\n",
    "    dlbutton = wait.until(EC.visibility_of_element_located((By.XPATH, \"//button[@data-testid='download-raw-button']\")))\n",
    "\n",
    "    # move to the download button\n",
    "    ActionChains(driver).move_to_element(dlbutton).perform()\n",
    "\n",
    "    # click the download button\n",
    "    dlbutton.click()\n",
    "except TimeoutException:\n",
    "    print(\"TimeoutException: The download button was not visible after 4 seconds\")\n",
    "except NoSuchElementException:\n",
    "    print(\"NoSuchElementException: Could not locate the download button\")"
   ]
  },
  {
   "cell_type": "code",
   "execution_count": null,
   "id": "82eea326-585f-4cd9-af88-b0f53d23a5e5",
   "metadata": {},
   "outputs": [],
   "source": [
    "# wait for 4 seconds\n",
    "WebDriverWait(driver, 4).until(EC.staleness_of(driver.find_element(By.XPATH, \"//button[@data-testid='download-raw-button']\")))\n",
    "\n",
    "# move to the download button\n",
    "dlbutton = driver.find_element(By.XPATH, \"//button[@data-testid='download-raw-button']\")\n",
    "ActionChains(driver).move_to_element(dlbutton).perform()\n",
    "\n",
    "# click the download button\n",
    "dlbutton.click()\n",
    "\n",
    "# # wait for the download to finish before moving to the next one\n",
    "# # adjust the time as needed\n",
    "# try:\n",
    "#     WebDriverWait(driver, 10).until(EC.staleness_of(dlbutton))\n",
    "# except TimeoutException:\n",
    "#     print(\"Download took too long for file. Moving to next file.\")"
   ]
  },
  {
   "cell_type": "code",
   "execution_count": null,
   "id": "d60cf9d5-7eb3-4017-9ff5-53e05cb053be",
   "metadata": {},
   "outputs": [],
   "source": [
    "fagsd"
   ]
  },
  {
   "cell_type": "code",
   "execution_count": null,
   "id": "a3a75dc7-7af2-4c52-b2b0-954625167fc1",
   "metadata": {},
   "outputs": [],
   "source": [
    "# specify the file name\n",
    "filename = 'Subqueries_lesson.sql'\n",
    "\n",
    "# specify the source directory\n",
    "source_dir = '/Users/rosendo/downloads'\n",
    "\n",
    "# specify the destination directory\n",
    "destination_dir = '/Users/rosendo/downloads'"
   ]
  },
  {
   "cell_type": "code",
   "execution_count": null,
   "id": "2d8222b1-0473-422f-b0c7-1db0182dac3c",
   "metadata": {},
   "outputs": [],
   "source": [
    "# function to find and move the file\n",
    "def find_and_move_file(filename, source_dir, destination_dir):\n",
    "    for root, dirs, files in os.walk(source_dir):\n",
    "        if filename in files:\n",
    "            shutil.move(os.path.join(root, filename), os.path.join(destination_dir, filename))\n",
    "            print(f'File {filename} has been moved to {destination_dir}')\n",
    "            return True\n",
    "        else:\n",
    "            return navigate_to_url(base_url, user)\n",
    "\n",
    "# function to navigate to the url\n",
    "def navigate_to_url(base_url, user):\n",
    "    driver.get(base_url + user + \"/database-exercises\")\n",
    "\n",
    "    # wait for 3 seconds\n",
    "    WebDriverWait(driver, 2).until(EC.staleness_of(driver.find_element(By.XPATH, \"//a[@class='js-navigation-open Link--primary']\")))\n",
    "\n",
    "    # find all elements that are files\n",
    "    elements = driver.find_elements(By.XPATH, \"//a[@class='js-navigation-open Link--primary']\")\n",
    "\n",
    "    # filter for .sql files\n",
    "    sql_files = [element for element in elements if '.sql' in element.text]\n",
    "\n",
    "    # click the first .sql file\n",
    "    if sql_files:\n",
    "        sql_files[0].click()\n",
    "    else:\n",
    "        print(\"No .sql files found.\")\n",
    "\n",
    "# find and move the file\n",
    "if find_and_move_file(filename, source_dir, destination_dir):\n",
    "    # navigate to the url\n",
    "    navigate_to_url(base_url, user)"
   ]
  },
  {
   "cell_type": "code",
   "execution_count": null,
   "id": "370a11d7-c6d9-4455-9b6d-3017a0372a00",
   "metadata": {},
   "outputs": [],
   "source": [
    "# dlbutton = driver.find_element(By.XPATH, \"//button[@data-testid='download-raw-button']\")\n",
    "# ActionChains(driver).move_to_element(dlbutton).perform()"
   ]
  },
  {
   "cell_type": "code",
   "execution_count": null,
   "id": "36d82f83-26ca-4a79-a7a4-ea4844d6e62e",
   "metadata": {},
   "outputs": [],
   "source": [
    "# specify the file name\n",
    "filename = 'Subqueries_lesson.sql'\n",
    "\n",
    "# specify the source directory\n",
    "source_dir = '/Users/rosendo/downloads'\n",
    "\n",
    "# specify the destination directory\n",
    "destination_dir = '/Users/rosendo/downloads'\n",
    "\n",
    "# function to find and move the file\n",
    "def find_and_move_file(filename, source_dir, destination_dir):\n",
    "    for root, dirs, files in os.walk(source_dir):\n",
    "        if filename in files:\n",
    "            shutil.move(os.path.join(root, filename), os.path.join(destination_dir, filename))\n",
    "            print(f'File {filename} has been moved to {destination_dir}')\n",
    "            return True\n",
    "    print(f'File {filename} not found in {source_dir}')\n",
    "    return False\n",
    "\n",
    "# function to navigate to the url\n",
    "def navigate_to_url(base_url, user):\n",
    "    driver.get(base_url + user + \"/database-exercises\")\n",
    "\n",
    "# find and move the file\n",
    "if find_and_move_file(filename, source_dir, destination_dir):\n",
    "    # navigate to the url\n",
    "    navigate_to_url(base_url, user)\n"
   ]
  },
  {
   "cell_type": "code",
   "execution_count": null,
   "id": "c56906d5-bd08-4f6d-8ce0-80a0b606818d",
   "metadata": {},
   "outputs": [],
   "source": [
    "import os\n",
    "import time\n",
    "\n",
    " wait_for_file_to_download(filename, download_path, timeout=30):\n",
    "    end_time = time.time() + timeout\n",
    "\n",
    "    while time.time() < end_time:\n",
    "        print(\"Files in directory:\", os.listdir(download_path))  # Debugging line\n",
    "        if os.path.exists(os.path.join(download_path, filename)):\n",
    "            return True\n",
    "        time.sleep(1)\n",
    "\n",
    "    return False\n"
   ]
  },
  {
   "cell_type": "code",
   "execution_count": null,
   "id": "753c2b2e-0c5e-4630-ba2b-4d537cffb6bc",
   "metadata": {},
   "outputs": [],
   "source": [
    "import os\n",
    "import time\n",
    "\n",
    "def wait_for_file_to_download(filename, download_path, timeout=30):\n",
    "    \"\"\"\n",
    "    Wait for a file to be downloaded to a specific directory.\n",
    "\n",
    "    :param filename: The name of the file to wait for.\n",
    "    :param download_path: The directory where the file is expected to be downloaded.\n",
    "    :param timeout: The maximum amount of time to wait, in seconds.\n",
    "    :return: True if the file was downloaded, False otherwise.\n",
    "    \"\"\"\n",
    "    # Calculate the time at which we should stop waiting\n",
    "    end_time = time.time() + timeout\n",
    "\n",
    "    while time.time() < end_time:\n",
    "        # Check if the file exists\n",
    "        if os.path.exists(os.path.join(download_path, filename)):\n",
    "            return True\n",
    "\n",
    "        # Wait for a bit before checking again\n",
    "        time.sleep(1)\n",
    "\n",
    "    # If we reach this point, the file was not downloaded before the timeout\n",
    "    return False\n"
   ]
  },
  {
   "cell_type": "code",
   "execution_count": null,
   "id": "0d5df931-5f09-4b10-841f-7e70f45028f9",
   "metadata": {
    "scrolled": true,
    "tags": []
   },
   "outputs": [],
   "source": [
    "# Click the download button\n",
    "dlbutton.click()\n",
    "\n",
    "# Wait for the file to be downloaded\n",
    "if wait_for_file_to_download('Subqueries.sql', '/Users/rosendo/downloads'):\n",
    "    print('File downloaded successfully')\n",
    "else:\n",
    "    print('Download failed')\n"
   ]
  },
  {
   "cell_type": "code",
   "execution_count": null,
   "id": "63fdd8bb-e0d8-4e0b-bd2f-b70a0ccc152a",
   "metadata": {},
   "outputs": [],
   "source": [
    "# navigate to database-exercises repo\n",
    "driver.get(base_url+user+\"/database-exercises\")"
   ]
  },
  {
   "cell_type": "code",
   "execution_count": null,
   "id": "b8ee89a0-bc79-4bcc-aae2-97392bb8fd14",
   "metadata": {},
   "outputs": [],
   "source": [
    "dgf"
   ]
  },
  {
   "cell_type": "code",
   "execution_count": null,
   "id": "f8950499-fa8b-4557-b3b0-e76f7ed7f984",
   "metadata": {},
   "outputs": [],
   "source": [
    "# Find all elements that are files\n",
    "elements = driver.find_elements(By.XPATH, \"//a[@class='js-navigation-open Link--primary']\")\n",
    "\n",
    "# Filter for .sql files\n",
    "sql_files = [element for element in elements if '.sql' in element.get_attribute('href')]\n",
    "\n",
    "# Click the first .sql file\n",
    "if sql_files:\n",
    "    # Get the href of the first .sql file\n",
    "    first_sql_file_href = sql_files[0].get_attribute('href')\n",
    "\n",
    "    # Find the element again right before you need it\n",
    "    first_sql_file = driver.find_element(By.XPATH, f\"//a[@href='{first_sql_file_href}']\")\n",
    "    first_sql_file.click()\n",
    "else:\n",
    "    print(\"No .sql files found.\")\n"
   ]
  },
  {
   "cell_type": "code",
   "execution_count": null,
   "id": "a8a813ba-413c-4782-8f9a-9d8a853bbc50",
   "metadata": {},
   "outputs": [],
   "source": [
    "# Find all elements that are files\n",
    "elements = driver.find_elements(By.XPATH, \"//a[@class='js-navigation-open Link--primary']\")\n",
    "\n",
    "# Filter for .sql files\n",
    "sql_files = [element for element in elements if '.sql' in element.get_attribute('href')]\n",
    "\n",
    "# Click the first .sql file\n",
    "if sql_files:\n",
    "    # Get the href of the first .sql file\n",
    "    first_sql_file_href = sql_files[0].get_attribute('href')\n",
    "\n",
    "    # Find the element again right before you need it\n",
    "    first_sql_file = driver.find_element(By.XPATH, f\"//a[@href='{first_sql_file_href}']\")\n",
    "    first_sql_file.click()\n",
    "else:\n",
    "    print(\"No .sql files found.\")"
   ]
  },
  {
   "cell_type": "code",
   "execution_count": null,
   "id": "f3953202-dfec-4a3b-ae9e-f6f5f8cfccf3",
   "metadata": {},
   "outputs": [],
   "source": [
    "# find all download buttons associated with .sql files\n",
    "dlbuttons = driver.find_elements(By.XPATH, \"//button[@data-component='IconButton'][preceding-sibling::*[contains(text(), '.sql')]]\")\n",
    "\n",
    "# loop through each download button and click it\n",
    "for dlbutton in dlbuttons:\n",
    "    # move to the download button\n",
    "    ActionChains(driver).move_to_element(dlbutton).perform()\n",
    "    \n",
    "    # click the download button\n",
    "    dlbutton.click()\n",
    "    \n",
    "    # wait for the download to finish before moving to the next one\n",
    "    # adjust the time as needed\n",
    "    try:\n",
    "        WebDriverWait(driver, 60).until(EC.staleness_of(dlbutton))\n",
    "    except TimeoutException:\n",
    "        print(\"Download took too long for file. Moving to next file.\")"
   ]
  },
  {
   "cell_type": "code",
   "execution_count": null,
   "id": "4fb18bb4-26dd-4253-87c1-490ef2d15859",
   "metadata": {},
   "outputs": [],
   "source": [
    "# find all download buttons\n",
    "dlbuttons = driver.find_elements(By.XPATH, \"//button[@data-component='IconButton'][preceding-sibling::*[contains(text(), '.sql')]]\")\n",
    "\n",
    "# loop through each download button and click it\n",
    "for dlbutton in dlbuttons:\n",
    "    # move to the download button\n",
    "    ActionChains(driver).move_to_element(dlbutton).perform()\n",
    "    \n",
    "    # click the download button\n",
    "    dlbutton.click()\n",
    "    \n",
    "    # wait for the download to finish before moving to the next one\n",
    "    # adjust the time as needed\n",
    "    try:\n",
    "        WebDriverWait(driver, 60).until(EC.staleness_of(dlbutton))\n",
    "    except TimeoutException:\n",
    "        print(\"Download took too long for file. Moving to next file.\")"
   ]
  },
  {
   "cell_type": "markdown",
   "id": "f3d1c27a-fbc6-4c0c-896f-87233d67de42",
   "metadata": {},
   "source": [
    "# <a href = \"https://www.selenium.dev/selenium/docs/api/py/webdriver_chrome/selenium.webdriver.chrome.webdriver.html?highlight=close#selenium.webdriver.chrome.webdriver.WebDriver.close\">Closing</a> & <a href=\"https://www.selenium.dev/selenium/docs/api/py/webdriver_chrome/selenium.webdriver.chrome.webdriver.html?highlight=quit#selenium.webdriver.chrome.webdriver.WebDriver.quit\">Quitting</a>\n",
    "\n",
    "`.close()` is used to close the current browser window or tab, while `.quit()` is used to close all browser windows or tabs associated with the WebDriver and terminate the WebDriver session. "
   ]
  },
  {
   "cell_type": "code",
   "execution_count": null,
   "id": "e951ee89-5b3e-4063-8d68-b3327cfd5f89",
   "metadata": {},
   "outputs": [],
   "source": [
    "driver.quit()"
   ]
  },
  {
   "cell_type": "code",
   "execution_count": null,
   "id": "b1cd6e02-a644-4db0-a893-e18b3410fd49",
   "metadata": {},
   "outputs": [],
   "source": []
  },
  {
   "cell_type": "code",
   "execution_count": null,
   "id": "7db2de73-5549-4df9-831e-bbab72da51d7",
   "metadata": {},
   "outputs": [],
   "source": []
  },
  {
   "cell_type": "code",
   "execution_count": null,
   "id": "91965c3c-d3cf-4e81-ad40-69dca6bd4c76",
   "metadata": {},
   "outputs": [],
   "source": []
  },
  {
   "cell_type": "code",
   "execution_count": null,
   "id": "68cee555-fe9a-43e5-bc6a-78062783e592",
   "metadata": {},
   "outputs": [],
   "source": []
  },
  {
   "cell_type": "code",
   "execution_count": null,
   "id": "03be68dc-24b6-4c6d-8249-b578966d4e1c",
   "metadata": {},
   "outputs": [],
   "source": []
  },
  {
   "cell_type": "code",
   "execution_count": null,
   "id": "9464097e-5784-41b4-8eb0-157011489dcf",
   "metadata": {},
   "outputs": [],
   "source": []
  },
  {
   "cell_type": "code",
   "execution_count": null,
   "id": "72b810a0-8d2b-443b-9a58-72842e56a779",
   "metadata": {},
   "outputs": [],
   "source": []
  },
  {
   "cell_type": "code",
   "execution_count": null,
   "id": "a343ae29-e359-4cf4-8f2d-2836ace3a7c6",
   "metadata": {},
   "outputs": [],
   "source": []
  },
  {
   "cell_type": "code",
   "execution_count": null,
   "id": "a81ea5b0-b86b-4963-bed8-752752b18b9b",
   "metadata": {},
   "outputs": [],
   "source": []
  },
  {
   "cell_type": "code",
   "execution_count": null,
   "id": "3afbfa70-3c70-4d1d-a480-1ab977d87431",
   "metadata": {},
   "outputs": [],
   "source": []
  },
  {
   "cell_type": "code",
   "execution_count": null,
   "id": "4ee62fe0-fc90-42d6-80f5-2089bf9498ec",
   "metadata": {},
   "outputs": [],
   "source": []
  },
  {
   "cell_type": "code",
   "execution_count": null,
   "id": "35bbef8c-08dd-4c4d-bea4-95b155034d64",
   "metadata": {},
   "outputs": [],
   "source": []
  },
  {
   "cell_type": "code",
   "execution_count": null,
   "id": "17fe1c6f-14a4-49e1-83fa-2dedee436fef",
   "metadata": {},
   "outputs": [],
   "source": []
  },
  {
   "cell_type": "code",
   "execution_count": null,
   "id": "66837d56-bf74-488c-91dc-cbace38e3c0d",
   "metadata": {},
   "outputs": [],
   "source": []
  },
  {
   "cell_type": "code",
   "execution_count": null,
   "id": "b8a64330-f070-4aab-b1a7-308b25b40a79",
   "metadata": {},
   "outputs": [],
   "source": []
  },
  {
   "cell_type": "code",
   "execution_count": null,
   "id": "5ddd9a2b-f6c9-4312-81a5-42ce2379e42b",
   "metadata": {},
   "outputs": [],
   "source": []
  },
  {
   "cell_type": "code",
   "execution_count": null,
   "id": "679593a4-742b-40fc-a76c-a1642bfed254",
   "metadata": {},
   "outputs": [],
   "source": []
  }
 ],
 "metadata": {
  "kernelspec": {
   "display_name": "Python 3 (ipykernel)",
   "language": "python",
   "name": "python3"
  },
  "language_info": {
   "codemirror_mode": {
    "name": "ipython",
    "version": 3
   },
   "file_extension": ".py",
   "mimetype": "text/x-python",
   "name": "python",
   "nbconvert_exporter": "python",
   "pygments_lexer": "ipython3",
   "version": "3.9.13"
  }
 },
 "nbformat": 4,
 "nbformat_minor": 5
}
